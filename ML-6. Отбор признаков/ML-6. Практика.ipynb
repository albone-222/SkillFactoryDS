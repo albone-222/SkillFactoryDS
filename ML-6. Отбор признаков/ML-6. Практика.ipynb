{
 "cells": [
  {
   "cell_type": "code",
   "execution_count": 60,
   "metadata": {},
   "outputs": [],
   "source": [
    "import pandas as pd\n",
    "\n",
    "from sklearn.model_selection import train_test_split, cross_val_score, cross_val_predict\n",
    "from sklearn.linear_model import LinearRegression\n",
    "from sklearn.metrics import r2_score, mean_absolute_percentage_error, mean_absolute_error"
   ]
  },
  {
   "cell_type": "code",
   "execution_count": 61,
   "metadata": {},
   "outputs": [
    {
     "data": {
      "text/html": [
       "<div>\n",
       "<style scoped>\n",
       "    .dataframe tbody tr th:only-of-type {\n",
       "        vertical-align: middle;\n",
       "    }\n",
       "\n",
       "    .dataframe tbody tr th {\n",
       "        vertical-align: top;\n",
       "    }\n",
       "\n",
       "    .dataframe thead th {\n",
       "        text-align: right;\n",
       "    }\n",
       "</style>\n",
       "<table border=\"1\" class=\"dataframe\">\n",
       "  <thead>\n",
       "    <tr style=\"text-align: right;\">\n",
       "      <th></th>\n",
       "      <th>price</th>\n",
       "      <th>year</th>\n",
       "      <th>condition</th>\n",
       "      <th>cylinders</th>\n",
       "      <th>odometer</th>\n",
       "      <th>title_status</th>\n",
       "      <th>transmission</th>\n",
       "      <th>drive</th>\n",
       "      <th>size</th>\n",
       "      <th>lat</th>\n",
       "      <th>long</th>\n",
       "      <th>weather</th>\n",
       "    </tr>\n",
       "  </thead>\n",
       "  <tbody>\n",
       "    <tr>\n",
       "      <th>0</th>\n",
       "      <td>43900</td>\n",
       "      <td>2016</td>\n",
       "      <td>4</td>\n",
       "      <td>6</td>\n",
       "      <td>43500</td>\n",
       "      <td>clean</td>\n",
       "      <td>automatic</td>\n",
       "      <td>4wd</td>\n",
       "      <td>full-size</td>\n",
       "      <td>36.471500</td>\n",
       "      <td>-82.483400</td>\n",
       "      <td>59.0</td>\n",
       "    </tr>\n",
       "    <tr>\n",
       "      <th>1</th>\n",
       "      <td>15490</td>\n",
       "      <td>2009</td>\n",
       "      <td>2</td>\n",
       "      <td>8</td>\n",
       "      <td>98131</td>\n",
       "      <td>clean</td>\n",
       "      <td>automatic</td>\n",
       "      <td>4wd</td>\n",
       "      <td>full-size</td>\n",
       "      <td>40.468826</td>\n",
       "      <td>-74.281734</td>\n",
       "      <td>52.0</td>\n",
       "    </tr>\n",
       "    <tr>\n",
       "      <th>2</th>\n",
       "      <td>2495</td>\n",
       "      <td>2002</td>\n",
       "      <td>2</td>\n",
       "      <td>8</td>\n",
       "      <td>201803</td>\n",
       "      <td>clean</td>\n",
       "      <td>automatic</td>\n",
       "      <td>4wd</td>\n",
       "      <td>full-size</td>\n",
       "      <td>42.477134</td>\n",
       "      <td>-82.949564</td>\n",
       "      <td>45.0</td>\n",
       "    </tr>\n",
       "    <tr>\n",
       "      <th>3</th>\n",
       "      <td>1300</td>\n",
       "      <td>2000</td>\n",
       "      <td>1</td>\n",
       "      <td>8</td>\n",
       "      <td>170305</td>\n",
       "      <td>rebuilt</td>\n",
       "      <td>automatic</td>\n",
       "      <td>4wd</td>\n",
       "      <td>full-size</td>\n",
       "      <td>40.764373</td>\n",
       "      <td>-82.349503</td>\n",
       "      <td>49.0</td>\n",
       "    </tr>\n",
       "    <tr>\n",
       "      <th>4</th>\n",
       "      <td>13865</td>\n",
       "      <td>2010</td>\n",
       "      <td>3</td>\n",
       "      <td>8</td>\n",
       "      <td>166062</td>\n",
       "      <td>clean</td>\n",
       "      <td>automatic</td>\n",
       "      <td>4wd</td>\n",
       "      <td>NaN</td>\n",
       "      <td>49.210949</td>\n",
       "      <td>-123.114720</td>\n",
       "      <td>NaN</td>\n",
       "    </tr>\n",
       "  </tbody>\n",
       "</table>\n",
       "</div>"
      ],
      "text/plain": [
       "   price  year  condition  cylinders  odometer title_status transmission  \\\n",
       "0  43900  2016          4          6     43500        clean    automatic   \n",
       "1  15490  2009          2          8     98131        clean    automatic   \n",
       "2   2495  2002          2          8    201803        clean    automatic   \n",
       "3   1300  2000          1          8    170305      rebuilt    automatic   \n",
       "4  13865  2010          3          8    166062        clean    automatic   \n",
       "\n",
       "  drive       size        lat        long  weather  \n",
       "0   4wd  full-size  36.471500  -82.483400     59.0  \n",
       "1   4wd  full-size  40.468826  -74.281734     52.0  \n",
       "2   4wd  full-size  42.477134  -82.949564     45.0  \n",
       "3   4wd  full-size  40.764373  -82.349503     49.0  \n",
       "4   4wd        NaN  49.210949 -123.114720      NaN  "
      ]
     },
     "execution_count": 61,
     "metadata": {},
     "output_type": "execute_result"
    }
   ],
   "source": [
    "data = pd.read_excel('data/data_ford_price.xlsx') \n",
    "data.head()"
   ]
  },
  {
   "cell_type": "code",
   "execution_count": 62,
   "metadata": {},
   "outputs": [],
   "source": [
    "data = data[['price','year', 'condition', 'cylinders', 'odometer', 'lat', 'long', 'weather']]\n",
    "data.dropna(inplace = True)\n",
    "\n",
    "y = data['price']\n",
    "x = data.drop(columns='price')\n",
    "\n",
    "X_train, X_test, y_train, y_test = train_test_split(x, y, test_size=0.3, random_state=40)"
   ]
  },
  {
   "attachments": {},
   "cell_type": "markdown",
   "metadata": {},
   "source": [
    "## Обор признаков с помощью метода RFE"
   ]
  },
  {
   "cell_type": "code",
   "execution_count": 63,
   "metadata": {},
   "outputs": [],
   "source": [
    "from sklearn.feature_selection import RFE"
   ]
  },
  {
   "cell_type": "code",
   "execution_count": 64,
   "metadata": {},
   "outputs": [
    {
     "data": {
      "text/plain": [
       "array(['year', 'condition', 'cylinders'], dtype=object)"
      ]
     },
     "execution_count": 64,
     "metadata": {},
     "output_type": "execute_result"
    }
   ],
   "source": [
    "random_state = 42\n",
    "select = RFE(estimator=LinearRegression(),\n",
    "             n_features_to_select=3,\n",
    "             step=1)\n",
    "select = select.fit(X_train, y_train)\n",
    "\n",
    "select.get_feature_names_out()"
   ]
  },
  {
   "cell_type": "code",
   "execution_count": 65,
   "metadata": {},
   "outputs": [],
   "source": [
    "X_train_rfe = X_train[select.get_feature_names_out()]\n",
    "X_test_rfe = X_test[select.get_feature_names_out()]"
   ]
  },
  {
   "cell_type": "code",
   "execution_count": 66,
   "metadata": {},
   "outputs": [
    {
     "name": "stdout",
     "output_type": "stream",
     "text": [
      "Метрика R2 на тренировочных данных - 0.52\n",
      "Метрика R2 на тестовых данных - 0.59\n",
      "Метрика MAE на тестовых данных - 5011\n"
     ]
    }
   ],
   "source": [
    "model = LinearRegression()\n",
    "\n",
    "model.fit(X_train_rfe, y_train)\n",
    "score_train = cross_val_score(estimator=model,\n",
    "                              X=X_train_rfe,\n",
    "                              y=y_train,\n",
    "                              cv=5,\n",
    "                              scoring='r2',\n",
    "                              n_jobs=1)\n",
    "\n",
    "print(f'Метрика R2 на тренировочных данных - {score_train.mean():.2f}')\n",
    "y_pred = model.predict(X_test_rfe)\n",
    "print(f'Метрика R2 на тестовых данных - {r2_score(y_test, y_pred):.2f}')\n",
    "print(f'Метрика MAE на тестовых данных - {mean_absolute_error(y_test, y_pred):.0f}')"
   ]
  },
  {
   "attachments": {},
   "cell_type": "markdown",
   "metadata": {},
   "source": [
    "## Обор признаков с помощью метода SelectKBest"
   ]
  },
  {
   "cell_type": "code",
   "execution_count": 67,
   "metadata": {},
   "outputs": [],
   "source": [
    "from sklearn.feature_selection import SelectKBest, f_regression"
   ]
  },
  {
   "cell_type": "code",
   "execution_count": 68,
   "metadata": {},
   "outputs": [
    {
     "data": {
      "text/plain": [
       "array(['year', 'condition', 'odometer'], dtype=object)"
      ]
     },
     "execution_count": 68,
     "metadata": {},
     "output_type": "execute_result"
    }
   ],
   "source": [
    "select = SelectKBest(f_regression, k=3)\n",
    "select.fit(X_train, y_train)\n",
    "\n",
    "select.get_feature_names_out()"
   ]
  },
  {
   "cell_type": "code",
   "execution_count": 69,
   "metadata": {},
   "outputs": [],
   "source": [
    "X_train_kbest = X_train[select.get_feature_names_out()]\n",
    "X_test_kbest = X_test[select.get_feature_names_out()]"
   ]
  },
  {
   "cell_type": "code",
   "execution_count": 70,
   "metadata": {},
   "outputs": [
    {
     "name": "stdout",
     "output_type": "stream",
     "text": [
      "Метрика R2 на тренировочных данных - 0.53\n",
      "Метрика R2 на тестовых данных - 0.60\n",
      "Метрика MAE на тестовых данных - 4802\n"
     ]
    }
   ],
   "source": [
    "model = LinearRegression()\n",
    "\n",
    "model.fit(X_train_kbest, y_train)\n",
    "score_train = cross_val_score(estimator=model,\n",
    "                              X=X_train_kbest,\n",
    "                              y=y_train,\n",
    "                              cv=5,\n",
    "                              scoring='r2',\n",
    "                              n_jobs=1)\n",
    "\n",
    "print(f'Метрика R2 на тренировочных данных - {score_train.mean():.2f}')\n",
    "y_pred = model.predict(X_test_kbest)\n",
    "print(f'Метрика R2 на тестовых данных - {r2_score(y_test, y_pred):.2f}')\n",
    "print(f'Метрика MAE на тестовых данных - {mean_absolute_error(y_test, y_pred):.0f}')"
   ]
  },
  {
   "attachments": {},
   "cell_type": "markdown",
   "metadata": {},
   "source": [
    "## Вывод"
   ]
  },
  {
   "attachments": {},
   "cell_type": "markdown",
   "metadata": {},
   "source": [
    "Так как при отборе признаков не обязательно они совпадут, для сравнения качества моделей была выбрана метрика R2, так как она описывает какую долю данных смогла описать полученная модель и в качестве вспомогательной - MAE.\n",
    "При выборе трех наиболее значимых признаков с помощью RFE и SelectKBest мы действительно получили разные массивы признаков и после обучения и предсказания модели линейной регрессии на каждом из них можно сделать вывод, что SelectKBet в данном случае показал более хороший результат. R2 метрика на тестовых данных имеет значение 0,6, против 0,59 у модели, построенной на признаках, полученных с помощью RFE. Аналогичные показатели и на тренировочных данных - 0,53 и 0,52 соответственно. Также по вспомогательное метрике - среднему абсолютному отклонению видно что вторая модель в среднем ошибается на 4802, а первая на 5011."
   ]
  }
 ],
 "metadata": {
  "kernelspec": {
   "display_name": "Python 3",
   "language": "python",
   "name": "python3"
  },
  "language_info": {
   "codemirror_mode": {
    "name": "ipython",
    "version": 3
   },
   "file_extension": ".py",
   "mimetype": "text/x-python",
   "name": "python",
   "nbconvert_exporter": "python",
   "pygments_lexer": "ipython3",
   "version": "3.9.12"
  },
  "orig_nbformat": 4
 },
 "nbformat": 4,
 "nbformat_minor": 2
}
