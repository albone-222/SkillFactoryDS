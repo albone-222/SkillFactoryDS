{
 "cells": [
  {
   "cell_type": "code",
   "execution_count": 5,
   "metadata": {},
   "outputs": [
    {
     "name": "stdout",
     "output_type": "stream",
     "text": [
      "      Income  Expenses\n",
      "2018     478       156\n",
      "2019     512       130\n",
      "2020     196       270\n",
      "-74\n"
     ]
    }
   ],
   "source": [
    "import pandas as pd\n",
    "\n",
    "def create_companyDF(income, expenses, years):\n",
    "    \"\"\"\n",
    "    Создайте функцию create_companyDF(income, expenses, years), которая  возвращает DataFrame, \n",
    "    составленный из входных данных со столбцами “Income” и “Expenses” и индексами, соответствующим годам рассматриваемого периода.\n",
    "    \"\"\"\n",
    "    df = pd.DataFrame({\n",
    "        'Income':income,\n",
    "        'Expenses':expenses,\n",
    "    },\n",
    "        index = years\n",
    "    )\n",
    "    print(df)\n",
    "    return df\n",
    "\n",
    "def get_profit(df, year):\n",
    "    \n",
    "    \"\"\"\n",
    "    А также напишите функцию get_profit(df, year), которая возвращает разницу между доходом и расходом, записанных в таблице df, за год year.\n",
    "    Учтите, что если информация за запрашиваемый год не указана в вашей таблице вам необходимо вернуть None. \n",
    "    \"\"\"\n",
    "    profit = None\n",
    "    if year in df.index:\n",
    "        profit = df.loc[year, 'Income'] - df.loc[year, 'Expenses']\n",
    "    return profit\n",
    "\n",
    "if __name__ == '__main__':\n",
    "    expenses = [156, 130, 270]\n",
    "    income = [478, 512, 196]\n",
    "    years = [2018, 2019, 2020]\n",
    "    \n",
    "    scienceyou = create_companyDF(income, expenses, years)\n",
    "    print(get_profit(scienceyou, 2020)) #-74"
   ]
  },
  {
   "cell_type": "code",
   "execution_count": 10,
   "metadata": {},
   "outputs": [
    {
     "ename": "ValueError",
     "evalue": "2 columns passed, passed data had 3 columns",
     "output_type": "error",
     "traceback": [
      "\u001b[1;31m---------------------------------------------------------------------------\u001b[0m",
      "\u001b[1;31mAssertionError\u001b[0m                            Traceback (most recent call last)",
      "File \u001b[1;32mD:\\Program Files\\Python39\\lib\\site-packages\\pandas\\core\\internals\\construction.py:982\u001b[0m, in \u001b[0;36m_finalize_columns_and_data\u001b[1;34m(content, columns, dtype)\u001b[0m\n\u001b[0;32m    <a href='file:///d%3A/Program%20Files/Python39/lib/site-packages/pandas/core/internals/construction.py?line=980'>981</a>\u001b[0m \u001b[39mtry\u001b[39;00m:\n\u001b[1;32m--> <a href='file:///d%3A/Program%20Files/Python39/lib/site-packages/pandas/core/internals/construction.py?line=981'>982</a>\u001b[0m     columns \u001b[39m=\u001b[39m _validate_or_indexify_columns(contents, columns)\n\u001b[0;32m    <a href='file:///d%3A/Program%20Files/Python39/lib/site-packages/pandas/core/internals/construction.py?line=982'>983</a>\u001b[0m \u001b[39mexcept\u001b[39;00m \u001b[39mAssertionError\u001b[39;00m \u001b[39mas\u001b[39;00m err:\n\u001b[0;32m    <a href='file:///d%3A/Program%20Files/Python39/lib/site-packages/pandas/core/internals/construction.py?line=983'>984</a>\u001b[0m     \u001b[39m# GH#26429 do not raise user-facing AssertionError\u001b[39;00m\n",
      "File \u001b[1;32mD:\\Program Files\\Python39\\lib\\site-packages\\pandas\\core\\internals\\construction.py:1030\u001b[0m, in \u001b[0;36m_validate_or_indexify_columns\u001b[1;34m(content, columns)\u001b[0m\n\u001b[0;32m   <a href='file:///d%3A/Program%20Files/Python39/lib/site-packages/pandas/core/internals/construction.py?line=1027'>1028</a>\u001b[0m \u001b[39mif\u001b[39;00m \u001b[39mnot\u001b[39;00m is_mi_list \u001b[39mand\u001b[39;00m \u001b[39mlen\u001b[39m(columns) \u001b[39m!=\u001b[39m \u001b[39mlen\u001b[39m(content):  \u001b[39m# pragma: no cover\u001b[39;00m\n\u001b[0;32m   <a href='file:///d%3A/Program%20Files/Python39/lib/site-packages/pandas/core/internals/construction.py?line=1028'>1029</a>\u001b[0m     \u001b[39m# caller's responsibility to check for this...\u001b[39;00m\n\u001b[1;32m-> <a href='file:///d%3A/Program%20Files/Python39/lib/site-packages/pandas/core/internals/construction.py?line=1029'>1030</a>\u001b[0m     \u001b[39mraise\u001b[39;00m \u001b[39mAssertionError\u001b[39;00m(\n\u001b[0;32m   <a href='file:///d%3A/Program%20Files/Python39/lib/site-packages/pandas/core/internals/construction.py?line=1030'>1031</a>\u001b[0m         \u001b[39mf\u001b[39m\u001b[39m\"\u001b[39m\u001b[39m{\u001b[39;00m\u001b[39mlen\u001b[39m(columns)\u001b[39m}\u001b[39;00m\u001b[39m columns passed, passed data had \u001b[39m\u001b[39m\"\u001b[39m\n\u001b[0;32m   <a href='file:///d%3A/Program%20Files/Python39/lib/site-packages/pandas/core/internals/construction.py?line=1031'>1032</a>\u001b[0m         \u001b[39mf\u001b[39m\u001b[39m\"\u001b[39m\u001b[39m{\u001b[39;00m\u001b[39mlen\u001b[39m(content)\u001b[39m}\u001b[39;00m\u001b[39m columns\u001b[39m\u001b[39m\"\u001b[39m\n\u001b[0;32m   <a href='file:///d%3A/Program%20Files/Python39/lib/site-packages/pandas/core/internals/construction.py?line=1032'>1033</a>\u001b[0m     )\n\u001b[0;32m   <a href='file:///d%3A/Program%20Files/Python39/lib/site-packages/pandas/core/internals/construction.py?line=1033'>1034</a>\u001b[0m \u001b[39melif\u001b[39;00m is_mi_list:\n\u001b[0;32m   <a href='file:///d%3A/Program%20Files/Python39/lib/site-packages/pandas/core/internals/construction.py?line=1034'>1035</a>\u001b[0m \n\u001b[0;32m   <a href='file:///d%3A/Program%20Files/Python39/lib/site-packages/pandas/core/internals/construction.py?line=1035'>1036</a>\u001b[0m     \u001b[39m# check if nested list column, length of each sub-list should be equal\u001b[39;00m\n",
      "\u001b[1;31mAssertionError\u001b[0m: 2 columns passed, passed data had 3 columns",
      "\nThe above exception was the direct cause of the following exception:\n",
      "\u001b[1;31mValueError\u001b[0m                                Traceback (most recent call last)",
      "\u001b[1;32mg:\\Data Sciense\\SF уроки\\PY-10. Введение в Pandas\\DS-3.5.ipynb Cell 2'\u001b[0m in \u001b[0;36m<cell line: 27>\u001b[1;34m()\u001b[0m\n\u001b[0;32m     <a href='vscode-notebook-cell:/g%3A/Data%20Sciense/SF%20%D1%83%D1%80%D0%BE%D0%BA%D0%B8/PY-10.%20%D0%92%D0%B2%D0%B5%D0%B4%D0%B5%D0%BD%D0%B8%D0%B5%20%D0%B2%20Pandas/DS-3.5.ipynb#ch0000001?line=28'>29</a>\u001b[0m income \u001b[39m=\u001b[39m [\u001b[39m478\u001b[39m, \u001b[39m512\u001b[39m, \u001b[39m196\u001b[39m]\n\u001b[0;32m     <a href='vscode-notebook-cell:/g%3A/Data%20Sciense/SF%20%D1%83%D1%80%D0%BE%D0%BA%D0%B8/PY-10.%20%D0%92%D0%B2%D0%B5%D0%B4%D0%B5%D0%BD%D0%B8%D0%B5%20%D0%B2%20Pandas/DS-3.5.ipynb#ch0000001?line=29'>30</a>\u001b[0m years \u001b[39m=\u001b[39m [\u001b[39m2018\u001b[39m, \u001b[39m2019\u001b[39m, \u001b[39m2020\u001b[39m]\n\u001b[1;32m---> <a href='vscode-notebook-cell:/g%3A/Data%20Sciense/SF%20%D1%83%D1%80%D0%BE%D0%BA%D0%B8/PY-10.%20%D0%92%D0%B2%D0%B5%D0%B4%D0%B5%D0%BD%D0%B8%D0%B5%20%D0%B2%20Pandas/DS-3.5.ipynb#ch0000001?line=31'>32</a>\u001b[0m scienceyou \u001b[39m=\u001b[39m create_companyDF(income, expenses, years)\n\u001b[0;32m     <a href='vscode-notebook-cell:/g%3A/Data%20Sciense/SF%20%D1%83%D1%80%D0%BE%D0%BA%D0%B8/PY-10.%20%D0%92%D0%B2%D0%B5%D0%B4%D0%B5%D0%BD%D0%B8%D0%B5%20%D0%B2%20Pandas/DS-3.5.ipynb#ch0000001?line=32'>33</a>\u001b[0m \u001b[39mprint\u001b[39m(get_profit(scienceyou, \u001b[39m2020\u001b[39m))\n",
      "\u001b[1;32mg:\\Data Sciense\\SF уроки\\PY-10. Введение в Pandas\\DS-3.5.ipynb Cell 2'\u001b[0m in \u001b[0;36mcreate_companyDF\u001b[1;34m(income, expenses, years)\u001b[0m\n\u001b[0;32m      <a href='vscode-notebook-cell:/g%3A/Data%20Sciense/SF%20%D1%83%D1%80%D0%BE%D0%BA%D0%B8/PY-10.%20%D0%92%D0%B2%D0%B5%D0%B4%D0%B5%D0%BD%D0%B8%D0%B5%20%D0%B2%20Pandas/DS-3.5.ipynb#ch0000001?line=2'>3</a>\u001b[0m \u001b[39mdef\u001b[39;00m \u001b[39mcreate_companyDF\u001b[39m(income, expenses, years):\n\u001b[0;32m      <a href='vscode-notebook-cell:/g%3A/Data%20Sciense/SF%20%D1%83%D1%80%D0%BE%D0%BA%D0%B8/PY-10.%20%D0%92%D0%B2%D0%B5%D0%B4%D0%B5%D0%BD%D0%B8%D0%B5%20%D0%B2%20Pandas/DS-3.5.ipynb#ch0000001?line=3'>4</a>\u001b[0m     \u001b[39m\"\"\"\u001b[39;00m\n\u001b[0;32m      <a href='vscode-notebook-cell:/g%3A/Data%20Sciense/SF%20%D1%83%D1%80%D0%BE%D0%BA%D0%B8/PY-10.%20%D0%92%D0%B2%D0%B5%D0%B4%D0%B5%D0%BD%D0%B8%D0%B5%20%D0%B2%20Pandas/DS-3.5.ipynb#ch0000001?line=4'>5</a>\u001b[0m \u001b[39m    Создайте функцию create_companyDF(income, expenses, years), которая  возвращает DataFrame, \u001b[39;00m\n\u001b[0;32m      <a href='vscode-notebook-cell:/g%3A/Data%20Sciense/SF%20%D1%83%D1%80%D0%BE%D0%BA%D0%B8/PY-10.%20%D0%92%D0%B2%D0%B5%D0%B4%D0%B5%D0%BD%D0%B8%D0%B5%20%D0%B2%20Pandas/DS-3.5.ipynb#ch0000001?line=5'>6</a>\u001b[0m \u001b[39m    составленный из входных данных со столбцами “Income” и “Expenses” и индексами, соответствующим годам рассматриваемого периода.\u001b[39;00m\n\u001b[0;32m      <a href='vscode-notebook-cell:/g%3A/Data%20Sciense/SF%20%D1%83%D1%80%D0%BE%D0%BA%D0%B8/PY-10.%20%D0%92%D0%B2%D0%B5%D0%B4%D0%B5%D0%BD%D0%B8%D0%B5%20%D0%B2%20Pandas/DS-3.5.ipynb#ch0000001?line=6'>7</a>\u001b[0m \u001b[39m    \"\"\"\u001b[39;00m\n\u001b[1;32m----> <a href='vscode-notebook-cell:/g%3A/Data%20Sciense/SF%20%D1%83%D1%80%D0%BE%D0%BA%D0%B8/PY-10.%20%D0%92%D0%B2%D0%B5%D0%B4%D0%B5%D0%BD%D0%B8%D0%B5%20%D0%B2%20Pandas/DS-3.5.ipynb#ch0000001?line=7'>8</a>\u001b[0m     df \u001b[39m=\u001b[39m pd\u001b[39m.\u001b[39;49mDataFrame(\n\u001b[0;32m      <a href='vscode-notebook-cell:/g%3A/Data%20Sciense/SF%20%D1%83%D1%80%D0%BE%D0%BA%D0%B8/PY-10.%20%D0%92%D0%B2%D0%B5%D0%B4%D0%B5%D0%BD%D0%B8%D0%B5%20%D0%B2%20Pandas/DS-3.5.ipynb#ch0000001?line=8'>9</a>\u001b[0m         index \u001b[39m=\u001b[39;49m years,\n\u001b[0;32m     <a href='vscode-notebook-cell:/g%3A/Data%20Sciense/SF%20%D1%83%D1%80%D0%BE%D0%BA%D0%B8/PY-10.%20%D0%92%D0%B2%D0%B5%D0%B4%D0%B5%D0%BD%D0%B8%D0%B5%20%D0%B2%20Pandas/DS-3.5.ipynb#ch0000001?line=9'>10</a>\u001b[0m         columns \u001b[39m=\u001b[39;49m [\u001b[39m'\u001b[39;49m\u001b[39mIncome\u001b[39;49m\u001b[39m'\u001b[39;49m, \u001b[39m'\u001b[39;49m\u001b[39mExpenses\u001b[39;49m\u001b[39m'\u001b[39;49m],\n\u001b[0;32m     <a href='vscode-notebook-cell:/g%3A/Data%20Sciense/SF%20%D1%83%D1%80%D0%BE%D0%BA%D0%B8/PY-10.%20%D0%92%D0%B2%D0%B5%D0%B4%D0%B5%D0%BD%D0%B8%D0%B5%20%D0%B2%20Pandas/DS-3.5.ipynb#ch0000001?line=10'>11</a>\u001b[0m         data \u001b[39m=\u001b[39;49m [income]\n\u001b[0;32m     <a href='vscode-notebook-cell:/g%3A/Data%20Sciense/SF%20%D1%83%D1%80%D0%BE%D0%BA%D0%B8/PY-10.%20%D0%92%D0%B2%D0%B5%D0%B4%D0%B5%D0%BD%D0%B8%D0%B5%20%D0%B2%20Pandas/DS-3.5.ipynb#ch0000001?line=11'>12</a>\u001b[0m     )\n\u001b[0;32m     <a href='vscode-notebook-cell:/g%3A/Data%20Sciense/SF%20%D1%83%D1%80%D0%BE%D0%BA%D0%B8/PY-10.%20%D0%92%D0%B2%D0%B5%D0%B4%D0%B5%D0%BD%D0%B8%D0%B5%20%D0%B2%20Pandas/DS-3.5.ipynb#ch0000001?line=12'>13</a>\u001b[0m     \u001b[39mprint\u001b[39m(df)\n\u001b[0;32m     <a href='vscode-notebook-cell:/g%3A/Data%20Sciense/SF%20%D1%83%D1%80%D0%BE%D0%BA%D0%B8/PY-10.%20%D0%92%D0%B2%D0%B5%D0%B4%D0%B5%D0%BD%D0%B8%D0%B5%20%D0%B2%20Pandas/DS-3.5.ipynb#ch0000001?line=13'>14</a>\u001b[0m     \u001b[39mreturn\u001b[39;00m df\n",
      "File \u001b[1;32mD:\\Program Files\\Python39\\lib\\site-packages\\pandas\\core\\frame.py:721\u001b[0m, in \u001b[0;36mDataFrame.__init__\u001b[1;34m(self, data, index, columns, dtype, copy)\u001b[0m\n\u001b[0;32m    <a href='file:///d%3A/Program%20Files/Python39/lib/site-packages/pandas/core/frame.py?line=715'>716</a>\u001b[0m     \u001b[39mif\u001b[39;00m columns \u001b[39mis\u001b[39;00m \u001b[39mnot\u001b[39;00m \u001b[39mNone\u001b[39;00m:\n\u001b[0;32m    <a href='file:///d%3A/Program%20Files/Python39/lib/site-packages/pandas/core/frame.py?line=716'>717</a>\u001b[0m         \u001b[39m# error: Argument 1 to \"ensure_index\" has incompatible type\u001b[39;00m\n\u001b[0;32m    <a href='file:///d%3A/Program%20Files/Python39/lib/site-packages/pandas/core/frame.py?line=717'>718</a>\u001b[0m         \u001b[39m# \"Collection[Any]\"; expected \"Union[Union[Union[ExtensionArray,\u001b[39;00m\n\u001b[0;32m    <a href='file:///d%3A/Program%20Files/Python39/lib/site-packages/pandas/core/frame.py?line=718'>719</a>\u001b[0m         \u001b[39m# ndarray], Index, Series], Sequence[Any]]\"\u001b[39;00m\n\u001b[0;32m    <a href='file:///d%3A/Program%20Files/Python39/lib/site-packages/pandas/core/frame.py?line=719'>720</a>\u001b[0m         columns \u001b[39m=\u001b[39m ensure_index(columns)  \u001b[39m# type: ignore[arg-type]\u001b[39;00m\n\u001b[1;32m--> <a href='file:///d%3A/Program%20Files/Python39/lib/site-packages/pandas/core/frame.py?line=720'>721</a>\u001b[0m     arrays, columns, index \u001b[39m=\u001b[39m nested_data_to_arrays(\n\u001b[0;32m    <a href='file:///d%3A/Program%20Files/Python39/lib/site-packages/pandas/core/frame.py?line=721'>722</a>\u001b[0m         \u001b[39m# error: Argument 3 to \"nested_data_to_arrays\" has incompatible\u001b[39;49;00m\n\u001b[0;32m    <a href='file:///d%3A/Program%20Files/Python39/lib/site-packages/pandas/core/frame.py?line=722'>723</a>\u001b[0m         \u001b[39m# type \"Optional[Collection[Any]]\"; expected \"Optional[Index]\"\u001b[39;49;00m\n\u001b[0;32m    <a href='file:///d%3A/Program%20Files/Python39/lib/site-packages/pandas/core/frame.py?line=723'>724</a>\u001b[0m         data,\n\u001b[0;32m    <a href='file:///d%3A/Program%20Files/Python39/lib/site-packages/pandas/core/frame.py?line=724'>725</a>\u001b[0m         columns,\n\u001b[0;32m    <a href='file:///d%3A/Program%20Files/Python39/lib/site-packages/pandas/core/frame.py?line=725'>726</a>\u001b[0m         index,  \u001b[39m# type: ignore[arg-type]\u001b[39;49;00m\n\u001b[0;32m    <a href='file:///d%3A/Program%20Files/Python39/lib/site-packages/pandas/core/frame.py?line=726'>727</a>\u001b[0m         dtype,\n\u001b[0;32m    <a href='file:///d%3A/Program%20Files/Python39/lib/site-packages/pandas/core/frame.py?line=727'>728</a>\u001b[0m     )\n\u001b[0;32m    <a href='file:///d%3A/Program%20Files/Python39/lib/site-packages/pandas/core/frame.py?line=728'>729</a>\u001b[0m     mgr \u001b[39m=\u001b[39m arrays_to_mgr(\n\u001b[0;32m    <a href='file:///d%3A/Program%20Files/Python39/lib/site-packages/pandas/core/frame.py?line=729'>730</a>\u001b[0m         arrays,\n\u001b[0;32m    <a href='file:///d%3A/Program%20Files/Python39/lib/site-packages/pandas/core/frame.py?line=730'>731</a>\u001b[0m         columns,\n\u001b[1;32m   (...)\u001b[0m\n\u001b[0;32m    <a href='file:///d%3A/Program%20Files/Python39/lib/site-packages/pandas/core/frame.py?line=733'>734</a>\u001b[0m         typ\u001b[39m=\u001b[39mmanager,\n\u001b[0;32m    <a href='file:///d%3A/Program%20Files/Python39/lib/site-packages/pandas/core/frame.py?line=734'>735</a>\u001b[0m     )\n\u001b[0;32m    <a href='file:///d%3A/Program%20Files/Python39/lib/site-packages/pandas/core/frame.py?line=735'>736</a>\u001b[0m \u001b[39melse\u001b[39;00m:\n",
      "File \u001b[1;32mD:\\Program Files\\Python39\\lib\\site-packages\\pandas\\core\\internals\\construction.py:519\u001b[0m, in \u001b[0;36mnested_data_to_arrays\u001b[1;34m(data, columns, index, dtype)\u001b[0m\n\u001b[0;32m    <a href='file:///d%3A/Program%20Files/Python39/lib/site-packages/pandas/core/internals/construction.py?line=515'>516</a>\u001b[0m \u001b[39mif\u001b[39;00m is_named_tuple(data[\u001b[39m0\u001b[39m]) \u001b[39mand\u001b[39;00m columns \u001b[39mis\u001b[39;00m \u001b[39mNone\u001b[39;00m:\n\u001b[0;32m    <a href='file:///d%3A/Program%20Files/Python39/lib/site-packages/pandas/core/internals/construction.py?line=516'>517</a>\u001b[0m     columns \u001b[39m=\u001b[39m ensure_index(data[\u001b[39m0\u001b[39m]\u001b[39m.\u001b[39m_fields)\n\u001b[1;32m--> <a href='file:///d%3A/Program%20Files/Python39/lib/site-packages/pandas/core/internals/construction.py?line=518'>519</a>\u001b[0m arrays, columns \u001b[39m=\u001b[39m to_arrays(data, columns, dtype\u001b[39m=\u001b[39;49mdtype)\n\u001b[0;32m    <a href='file:///d%3A/Program%20Files/Python39/lib/site-packages/pandas/core/internals/construction.py?line=519'>520</a>\u001b[0m columns \u001b[39m=\u001b[39m ensure_index(columns)\n\u001b[0;32m    <a href='file:///d%3A/Program%20Files/Python39/lib/site-packages/pandas/core/internals/construction.py?line=521'>522</a>\u001b[0m \u001b[39mif\u001b[39;00m index \u001b[39mis\u001b[39;00m \u001b[39mNone\u001b[39;00m:\n",
      "File \u001b[1;32mD:\\Program Files\\Python39\\lib\\site-packages\\pandas\\core\\internals\\construction.py:883\u001b[0m, in \u001b[0;36mto_arrays\u001b[1;34m(data, columns, dtype)\u001b[0m\n\u001b[0;32m    <a href='file:///d%3A/Program%20Files/Python39/lib/site-packages/pandas/core/internals/construction.py?line=879'>880</a>\u001b[0m     data \u001b[39m=\u001b[39m [\u001b[39mtuple\u001b[39m(x) \u001b[39mfor\u001b[39;00m x \u001b[39min\u001b[39;00m data]\n\u001b[0;32m    <a href='file:///d%3A/Program%20Files/Python39/lib/site-packages/pandas/core/internals/construction.py?line=880'>881</a>\u001b[0m     arr \u001b[39m=\u001b[39m _list_to_arrays(data)\n\u001b[1;32m--> <a href='file:///d%3A/Program%20Files/Python39/lib/site-packages/pandas/core/internals/construction.py?line=882'>883</a>\u001b[0m content, columns \u001b[39m=\u001b[39m _finalize_columns_and_data(arr, columns, dtype)\n\u001b[0;32m    <a href='file:///d%3A/Program%20Files/Python39/lib/site-packages/pandas/core/internals/construction.py?line=883'>884</a>\u001b[0m \u001b[39mreturn\u001b[39;00m content, columns\n",
      "File \u001b[1;32mD:\\Program Files\\Python39\\lib\\site-packages\\pandas\\core\\internals\\construction.py:985\u001b[0m, in \u001b[0;36m_finalize_columns_and_data\u001b[1;34m(content, columns, dtype)\u001b[0m\n\u001b[0;32m    <a href='file:///d%3A/Program%20Files/Python39/lib/site-packages/pandas/core/internals/construction.py?line=981'>982</a>\u001b[0m     columns \u001b[39m=\u001b[39m _validate_or_indexify_columns(contents, columns)\n\u001b[0;32m    <a href='file:///d%3A/Program%20Files/Python39/lib/site-packages/pandas/core/internals/construction.py?line=982'>983</a>\u001b[0m \u001b[39mexcept\u001b[39;00m \u001b[39mAssertionError\u001b[39;00m \u001b[39mas\u001b[39;00m err:\n\u001b[0;32m    <a href='file:///d%3A/Program%20Files/Python39/lib/site-packages/pandas/core/internals/construction.py?line=983'>984</a>\u001b[0m     \u001b[39m# GH#26429 do not raise user-facing AssertionError\u001b[39;00m\n\u001b[1;32m--> <a href='file:///d%3A/Program%20Files/Python39/lib/site-packages/pandas/core/internals/construction.py?line=984'>985</a>\u001b[0m     \u001b[39mraise\u001b[39;00m \u001b[39mValueError\u001b[39;00m(err) \u001b[39mfrom\u001b[39;00m \u001b[39merr\u001b[39;00m\n\u001b[0;32m    <a href='file:///d%3A/Program%20Files/Python39/lib/site-packages/pandas/core/internals/construction.py?line=986'>987</a>\u001b[0m \u001b[39mif\u001b[39;00m \u001b[39mlen\u001b[39m(contents) \u001b[39mand\u001b[39;00m contents[\u001b[39m0\u001b[39m]\u001b[39m.\u001b[39mdtype \u001b[39m==\u001b[39m np\u001b[39m.\u001b[39mobject_:\n\u001b[0;32m    <a href='file:///d%3A/Program%20Files/Python39/lib/site-packages/pandas/core/internals/construction.py?line=987'>988</a>\u001b[0m     contents \u001b[39m=\u001b[39m _convert_object_array(contents, dtype\u001b[39m=\u001b[39mdtype)\n",
      "\u001b[1;31mValueError\u001b[0m: 2 columns passed, passed data had 3 columns"
     ]
    }
   ],
   "source": [
    "import pandas as pd\n",
    "\n",
    "def create_companyDF(income, expenses, years):\n",
    "    \"\"\"\n",
    "    Создайте функцию create_companyDF(income, expenses, years), которая  возвращает DataFrame, \n",
    "    составленный из входных данных со столбцами “Income” и “Expenses” и индексами, соответствующим годам рассматриваемого периода.\n",
    "    \"\"\"\n",
    "    df = pd.DataFrame(\n",
    "        index = years,\n",
    "        columns = ['Income', 'Expenses'],\n",
    "        data = [income]\n",
    "    )\n",
    "    print(df)\n",
    "    return df\n",
    "\n",
    "def get_profit(df, year):\n",
    "    \n",
    "    \"\"\"\n",
    "    А также напишите функцию get_profit(df, year), которая возвращает разницу между доходом и расходом, записанных в таблице df, за год year.\n",
    "    Учтите, что если информация за запрашиваемый год не указана в вашей таблице вам необходимо вернуть None. \n",
    "    \"\"\"\n",
    "    profit = None\n",
    "    if year in df.index:\n",
    "        profit = df.loc[year, 'Income'] - df.loc[year, 'Expenses']\n",
    "    return profit\n",
    "\n",
    "if __name__ == '__main__':\n",
    "    expenses = [156, 130, 270]\n",
    "    income = [478, 512, 196]\n",
    "    years = [2018, 2019, 2020]\n",
    "    \n",
    "    scienceyou = create_companyDF(income, expenses, years)\n",
    "    print(get_profit(scienceyou, 2020)) #-74"
   ]
  }
 ],
 "metadata": {
  "interpreter": {
   "hash": "0d008810b9c8467bcb3ca39aa2180e5b81b3a9acb136aab30d47954377cc5120"
  },
  "kernelspec": {
   "display_name": "Python 3.9.12 64-bit",
   "language": "python",
   "name": "python3"
  },
  "language_info": {
   "codemirror_mode": {
    "name": "ipython",
    "version": 3
   },
   "file_extension": ".py",
   "mimetype": "text/x-python",
   "name": "python",
   "nbconvert_exporter": "python",
   "pygments_lexer": "ipython3",
   "version": "3.9.12"
  },
  "orig_nbformat": 4
 },
 "nbformat": 4,
 "nbformat_minor": 2
}
